{
 "cells": [
  {
   "cell_type": "markdown",
   "id": "23604c1c-8127-41c8-8e7d-ccf90875dd5c",
   "metadata": {},
   "source": [
    "# Plot longitudinal profiles (interactive)"
   ]
  },
  {
   "cell_type": "code",
   "execution_count": null,
   "id": "249b799a-fc09-4bdc-96b8-5192a2e22e61",
   "metadata": {},
   "outputs": [],
   "source": [
    "import math\n",
    "import os\n",
    "import pathlib\n",
    "\n",
    "import matplotlib.pyplot as plt\n",
    "import numpy as np\n",
    "import xarray as xr\n",
    "from ipywidgets import interact\n",
    "\n",
    "from tools.plotting import set_mpl_style\n",
    "from tools.utils import coords_to_edges"
   ]
  },
  {
   "cell_type": "code",
   "execution_count": null,
   "id": "3b36ce8b-1651-4fc8-8efd-2ee961701c5b",
   "metadata": {},
   "outputs": [],
   "source": [
    "set_mpl_style()"
   ]
  },
  {
   "cell_type": "code",
   "execution_count": null,
   "id": "31750200-5209-485a-9a21-f0d530e3c246",
   "metadata": {},
   "outputs": [],
   "source": [
    "profiles = {\n",
    "    \"exp03\": xr.open_dataarray(\"outputs/00_proc_bcm/exp03/profiles.nc\"),\n",
    "    \"exp04\": xr.open_dataarray(\"outputs/00_proc_bcm/exp04/profiles.nc\"),\n",
    "}\n",
    "keys = list(profiles)"
   ]
  },
  {
   "cell_type": "code",
   "execution_count": null,
   "id": "4a44ed80-fc20-4564-a5ef-97befed4b68e",
   "metadata": {},
   "outputs": [],
   "source": [
    "@interact(turn=(0, 1100 - 1), share_ylim=True)\n",
    "def plot_both_overlay(turn: int, share_ylim: bool):\n",
    "    fig, ax = plt.subplots(figsize=(4.0, 2.0))\n",
    "\n",
    "    ymax = 0.0\n",
    "    for key in keys:\n",
    "        values = profiles[key][turn].copy()\n",
    "\n",
    "        coords = profiles[key].coords[\"z\"]\n",
    "        edges = coords_to_edges(coords)\n",
    "\n",
    "        ymax = max(ymax, np.max(profiles[key]))\n",
    "\n",
    "        ax.stairs(values, edges, lw=1.75, label=key)\n",
    "\n",
    "    ax.set_xlabel(\"z [m]\")\n",
    "    ax.set_ylabel(\"BCM\")\n",
    "    ax.legend(loc=\"upper left\")\n",
    "    ax.set_xlim(-124.0, 124.0)\n",
    "    if share_ylim:\n",
    "        ax.set_ylim(0.0, ymax * 1.1)\n",
    "    plt.show()"
   ]
  },
  {
   "cell_type": "code",
   "execution_count": null,
   "id": "2fa2aa02-bd26-4892-ac79-0027315b5350",
   "metadata": {},
   "outputs": [],
   "source": []
  }
 ],
 "metadata": {
  "kernelspec": {
   "display_name": "Python [conda env:analysis]",
   "language": "python",
   "name": "conda-env-analysis-py"
  },
  "language_info": {
   "codemirror_mode": {
    "name": "ipython",
    "version": 3
   },
   "file_extension": ".py",
   "mimetype": "text/x-python",
   "name": "python",
   "nbconvert_exporter": "python",
   "pygments_lexer": "ipython3",
   "version": "3.13.0"
  }
 },
 "nbformat": 4,
 "nbformat_minor": 5
}
